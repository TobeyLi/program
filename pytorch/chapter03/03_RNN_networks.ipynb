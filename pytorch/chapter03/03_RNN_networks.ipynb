{
 "cells": [
  {
   "cell_type": "code",
   "execution_count": 14,
   "metadata": {},
   "outputs": [],
   "source": [
    "import torch\n",
    "import torch.nn as nn\n",
    "import zipfile\n",
    "import random\n",
    "import os"
   ]
  },
  {
   "cell_type": "code",
   "execution_count": 4,
   "metadata": {},
   "outputs": [
    {
     "data": {
      "text/plain": [
       "'/Users/litao/Desktop/program/pytorch/chapter03'"
      ]
     },
     "execution_count": 4,
     "metadata": {},
     "output_type": "execute_result"
    }
   ],
   "source": [
    "os.getcwd()"
   ]
  },
  {
   "cell_type": "code",
   "execution_count": 5,
   "metadata": {},
   "outputs": [
    {
     "data": {
      "text/plain": [
       "'想要有直升机\\n想要和你飞到宇宙去\\n想要和你融化在一起\\n融化在宇宙里\\n我每天每天每'"
      ]
     },
     "execution_count": 5,
     "metadata": {},
     "output_type": "execute_result"
    }
   ],
   "source": [
    "with zipfile.ZipFile(\"../data/jaychou_lyrics.txt.zip\") as zin:\n",
    "    with zin.open(\"jaychou_lyrics.txt\") as f:\n",
    "        corpus_chars=f.read().decode(\"utf-8\")\n",
    "corpus_chars[:40]"
   ]
  },
  {
   "cell_type": "markdown",
   "metadata": {},
   "source": [
    "## 数据处理"
   ]
  },
  {
   "cell_type": "code",
   "execution_count": 6,
   "metadata": {},
   "outputs": [],
   "source": [
    "# 将换行符号替换成空格\n",
    "corpus_chars=corpus_chars.replace(\"\\n\",\" \").replace(\"\\r\",\" \")"
   ]
  },
  {
   "cell_type": "code",
   "execution_count": 12,
   "metadata": {},
   "outputs": [],
   "source": [
    "characters=list(set(corpus_chars))\n",
    "char2index=dict([(char,i) for i,char in enumerate(characters)])\n",
    "index2char=dict([(i,char) for i,char in enumerate(characters)])"
   ]
  },
  {
   "cell_type": "code",
   "execution_count": 13,
   "metadata": {},
   "outputs": [
    {
     "name": "stdout",
     "output_type": "stream",
     "text": [
      "chars: 想要有直升机 想要和你飞到宇宙去 想要和\n",
      "indices: [2391, 913, 829, 2029, 2075, 2066, 972, 2391, 913, 1214, 522, 48, 1611, 1934, 2008, 1923, 972, 2391, 913, 1214]\n"
     ]
    }
   ],
   "source": [
    "# 查看是否转换成功\n",
    "corpus_indices = [char2index[char] for char in corpus_chars]\n",
    "sample = corpus_indices[:20]\n",
    "print('chars:', ''.join([index2char[idx] for idx in sample]))\n",
    "print('indices:', sample)"
   ]
  },
  {
   "cell_type": "markdown",
   "metadata": {},
   "source": [
    "## 时序数据采样的两种方式"
   ]
  },
  {
   "cell_type": "markdown",
   "metadata": {},
   "source": [
    "### 1. 随机采样\n",
    "每个样本是原始序列上任意截取的一段序列。相邻的两个随机小批量在原始序列上的位置不一定相毗邻。因此，我们无法用一个小批量最终时间步的隐藏状态来初始化下一个小批量的隐藏状态。在训练模型时，每次随机采样前都需要重新初始化隐藏状态。"
   ]
  },
  {
   "cell_type": "code",
   "execution_count": 15,
   "metadata": {},
   "outputs": [],
   "source": [
    "def data_iter_random(corpus_indices, batch_size, num_steps,shuffle=True,device=None):\n",
    "    \"\"\"\n",
    "    :param corpus_indices :original sequence\n",
    "    :param batch_size :batch size\n",
    "    :param num_steps:how many character one step contains \n",
    "    \"\"\"\n",
    "    # 减1是因为输出的索引x是相应输入的索引y加1\n",
    "    # 可以划分为多少个num_steps，即总共需要计算的次数\n",
    "    num_examples=(len(corpus_indices)-1)//num_steps\n",
    "    # epoch_size的计算方式，每一次需要计算的个数\n",
    "    epoch_size=num_examples//batch_size\n",
    "    example_indices=list(range(num_examples))\n",
    "    if shuffle:\n",
    "        random.shuffle(example_indices)\n",
    "    \n",
    "    def _data(pos):\n",
    "        \"\"\"\n",
    "        :param pos :return a seq which start at pos and length is num_steps\n",
    "        \"\"\"\n",
    "        return corpus_indices[pos:pos+num_steps]\n",
    "    if device is None:\n",
    "        device = torch.device('cuda' if torch.cuda.is_available() else 'cpu')\n",
    "    \n",
    "    # read seq\n",
    "    for i in range(epoch_size):\n",
    "        i=i * batch_size\n",
    "        batch_indices=example_indices[i:i+batch_size]\n",
    "        X = [_data(j * num_steps) for j in batch_indices]\n",
    "        Y = [_data(j * num_steps + 1) for j in batch_indices]\n",
    "        yield torch.tensor(X, dtype=torch.float32, device=device), torch.tensor(Y, dtype=torch.float32, device=device)"
   ]
  },
  {
   "cell_type": "code",
   "execution_count": 16,
   "metadata": {},
   "outputs": [
    {
     "name": "stdout",
     "output_type": "stream",
     "text": [
      "X:  tensor([[12., 13., 14., 15., 16., 17.],\n",
      "        [ 0.,  1.,  2.,  3.,  4.,  5.]]) \n",
      "Y: tensor([[13., 14., 15., 16., 17., 18.],\n",
      "        [ 1.,  2.,  3.,  4.,  5.,  6.]]) \n",
      "\n",
      "X:  tensor([[18., 19., 20., 21., 22., 23.],\n",
      "        [ 6.,  7.,  8.,  9., 10., 11.]]) \n",
      "Y: tensor([[19., 20., 21., 22., 23., 24.],\n",
      "        [ 7.,  8.,  9., 10., 11., 12.]]) \n",
      "\n"
     ]
    }
   ],
   "source": [
    "my_seq = list(range(30))\n",
    "for X, Y in data_iter_random(my_seq, batch_size=2, num_steps=6):\n",
    "    print('X: ', X, '\\nY:', Y, '\\n')"
   ]
  },
  {
   "cell_type": "markdown",
   "metadata": {},
   "source": [
    "### 2. 相邻采样\n",
    "我们还可以令相邻的两个随机小批量在原始序列上的位置相毗邻。这时候，我们就可以用一个小批量最终时间步的隐藏状态来初始化下一个小批量的隐藏状态，从而使下一个小批量的输出也取决于当前小批量的输入，并如此循环下去。"
   ]
  },
  {
   "cell_type": "code",
   "execution_count": 187,
   "metadata": {},
   "outputs": [],
   "source": [
    "def data_iter_consecutive(corpus_indices, batch_size, num_steps, device=None):\n",
    "    if device is None:\n",
    "        device = torch.device('cuda' if torch.cuda.is_available() else 'cpu')\n",
    "    corpus_indices = torch.tensor(corpus_indices, dtype=torch.float32, device=device)\n",
    "    # 数据总长度1000\n",
    "    data_len = len(corpus_indices)\n",
    "    # 每个batch的长度\n",
    "    batch_len = data_len // batch_size\n",
    "    indices = corpus_indices[0: batch_size*batch_len].view(batch_size, batch_len)\n",
    "    # epoch的计算方式\n",
    "    epoch_size = (batch_len - 1) // num_steps\n",
    "    for i in range(epoch_size):\n",
    "        i = i * num_steps\n",
    "        X = indices[:, i: i + num_steps]\n",
    "        Y = indices[:, i + 1: i + num_steps + 1]\n",
    "        yield X, Y"
   ]
  },
  {
   "cell_type": "code",
   "execution_count": 174,
   "metadata": {},
   "outputs": [
    {
     "name": "stdout",
     "output_type": "stream",
     "text": [
      "X:  tensor([[ 0.,  1.,  2.,  3.,  4.,  5.],\n",
      "        [15., 16., 17., 18., 19., 20.]]) \n",
      "Y: tensor([[ 1.,  2.,  3.,  4.,  5.,  6.],\n",
      "        [16., 17., 18., 19., 20., 21.]]) \n",
      "\n",
      "X:  tensor([[ 6.,  7.,  8.,  9., 10., 11.],\n",
      "        [21., 22., 23., 24., 25., 26.]]) \n",
      "Y: tensor([[ 7.,  8.,  9., 10., 11., 12.],\n",
      "        [22., 23., 24., 25., 26., 27.]]) \n",
      "\n"
     ]
    }
   ],
   "source": [
    "for X, Y in data_iter_consecutive(my_seq, batch_size=2, num_steps=6):\n",
    "    print('X: ', X, '\\nY:', Y, '\\n')"
   ]
  },
  {
   "cell_type": "markdown",
   "metadata": {},
   "source": [
    "## 使用RNN/LSTM来定义模型"
   ]
  },
  {
   "cell_type": "code",
   "execution_count": 202,
   "metadata": {},
   "outputs": [],
   "source": [
    "import sys\n",
    "sys.path.append(\"..\")\n",
    "from torch_utils.utils import *\n",
    "import torch.nn.functional as F\n",
    "import numpy as np\n",
    "import time\n",
    "import math"
   ]
  },
  {
   "cell_type": "code",
   "execution_count": 126,
   "metadata": {},
   "outputs": [],
   "source": [
    "# 设定随机数种子，使结果可浮现\n",
    "def setup_seed(seed):\n",
    "    torch.manual_seed(seed)\n",
    "    torch.cuda.manual_seed_all(seed)\n",
    "    np.random.seed(seed)\n",
    "    random.seed(seed)\n",
    "    torch.backends.cudnn.deterministic = False\n",
    "setup_seed(0)"
   ]
  },
  {
   "cell_type": "code",
   "execution_count": 24,
   "metadata": {},
   "outputs": [],
   "source": [
    "# 导入Jayzhou歌词文件\n",
    "corpus_chars,vocab_size,char2index,index2char=load_data_jay_lyrics()"
   ]
  },
  {
   "cell_type": "code",
   "execution_count": 29,
   "metadata": {},
   "outputs": [],
   "source": [
    "nn.LSTM?"
   ]
  },
  {
   "cell_type": "code",
   "execution_count": 139,
   "metadata": {},
   "outputs": [],
   "source": [
    "num_hiddens=256\n",
    "rnn_layer=nn.RNN(input_size=vocab_size,hidden_size=num_hiddens,batch_first=True)"
   ]
  },
  {
   "cell_type": "code",
   "execution_count": 140,
   "metadata": {},
   "outputs": [
    {
     "data": {
      "text/plain": [
       "torch.Size([16, 35, 2582])"
      ]
     },
     "execution_count": 140,
     "metadata": {},
     "output_type": "execute_result"
    }
   ],
   "source": [
    "# 创建数据，测试输出的shape\n",
    "batch_size=16\n",
    "num_steps=35\n",
    "state=None\n",
    "\n",
    "X = torch.rand(batch_size, num_steps, vocab_size)\n",
    "X.shape"
   ]
  },
  {
   "cell_type": "code",
   "execution_count": 141,
   "metadata": {},
   "outputs": [
    {
     "name": "stdout",
     "output_type": "stream",
     "text": [
      "torch.Size([16, 35, 256]) 1 torch.Size([16, 256])\n"
     ]
    }
   ],
   "source": [
    "Y, state_new = rnn_layer(X, state)\n",
    "# output:batch_size,num_steps,hidden_dim\n",
    "# h:batch_size,hidden_dim \n",
    "print(Y.shape, len(state_new), state_new[0].shape)"
   ]
  },
  {
   "cell_type": "markdown",
   "metadata": {},
   "source": [
    "## 定义RNN model"
   ]
  },
  {
   "cell_type": "code",
   "execution_count": 188,
   "metadata": {},
   "outputs": [],
   "source": [
    "class RNNModel(nn.Module):\n",
    "    def __init__(self,vocab_size,hidden_dim,bidirectional=False):\n",
    "        super(RNNModel,self).__init__()\n",
    "        self.rnn_layer=nn.RNN(input_size=vocab_size,hidden_size=hidden_dim)\n",
    "        self.hidden_dim=hidden_dim*1 if not bidirectional else hidden_dim*2\n",
    "        self.vocab_size=vocab_size\n",
    "        self.fc=nn.Linear(self.hidden_dim,self.vocab_size)\n",
    "        # 起始状态\n",
    "        self.state=None\n",
    "    def forward(self,X,state):\n",
    "        # X:(batch,seq_len)\n",
    "        X=F.one_hot(X,self.vocab_size).float()\n",
    "        Y, self.state = self.rnn_layer(X, state)\n",
    "        #(num_steps * batch_size, num_hiddens)，它的输出形状为(num_steps * batch_size, vocab_size)\n",
    "        output = self.fc(Y.view(-1, Y.shape[-1]))\n",
    "        return output, self.state"
   ]
  },
  {
   "cell_type": "markdown",
   "metadata": {},
   "source": [
    "## 模型测试"
   ]
  },
  {
   "cell_type": "code",
   "execution_count": 189,
   "metadata": {},
   "outputs": [],
   "source": [
    "def predict_rnn(prefix, num_chars, model, device, idx_to_char,char_to_idx):\n",
    "    state=None\n",
    "    # 记录起始的角标\n",
    "    output=[char_to_idx[prefix[0]]]\n",
    "    for t in range(num_chars+len(prefix)-1):\n",
    "        X=torch.tensor([output[-1]],device=device).view(1,1)\n",
    "        if state is not None:\n",
    "            # LSTM instance\n",
    "            if isinstance(state,tuple):\n",
    "                state = (state[0].to(device), state[1].to(device))\n",
    "            # RNN instance\n",
    "            else:\n",
    "                state=state.to(device)\n",
    "        Y,state=model(X,state)\n",
    "        if t<len(prefix)-1:\n",
    "            output.append(char_to_idx[prefix[t + 1]])\n",
    "        # 获取概率最大的角标\n",
    "        else:\n",
    "            output.append(int(Y.argmax(dim=1).item()))\n",
    "    # 转变为字符输出\n",
    "    return ''.join([idx_to_char[i] for i in output])"
   ]
  },
  {
   "cell_type": "code",
   "execution_count": 190,
   "metadata": {},
   "outputs": [
    {
     "data": {
      "text/plain": [
       "'分开蜂鸣混悄登與警登芙登'"
      ]
     },
     "execution_count": 190,
     "metadata": {},
     "output_type": "execute_result"
    }
   ],
   "source": [
    "# 初步进行测试\n",
    "device=\"cuda\" if torch.cuda.is_available() else \"cpu\"\n",
    "model = RNNModel(vocab_size,hidden_dim=256).to(device)\n",
    "predict_rnn('分开', 10, model, device, index2char, char2index)"
   ]
  },
  {
   "cell_type": "code",
   "execution_count": 191,
   "metadata": {},
   "outputs": [],
   "source": [
    "# 超参数定义\n",
    "num_epochs, batch_size, lr, clipping_theta = 250, 32, 1e-3, 1e-2\n",
    "num_steps=35"
   ]
  },
  {
   "cell_type": "code",
   "execution_count": 192,
   "metadata": {},
   "outputs": [],
   "source": [
    "criterion=nn.CrossEntropyLoss()\n",
    "optimizer=torch.optim.Adam(model.parameters(),lr=lr)"
   ]
  },
  {
   "cell_type": "markdown",
   "metadata": {},
   "source": [
    "## 模型训练"
   ]
  },
  {
   "cell_type": "code",
   "execution_count": 206,
   "metadata": {},
   "outputs": [],
   "source": [
    "def train_rnn(model,corpus,idx_to_char,char_to_idx,vocab_size,\n",
    "                    pred_period, pred_len, prefixes,device):\n",
    "    state=None\n",
    "    model.to(device)\n",
    "    for epoch in range(num_epochs):\n",
    "        l_sum, n, start = 0.0, 0, time.time()\n",
    "        data_iter=data_iter_consecutive(corpus, batch_size, num_steps, device)\n",
    "        for X,y in data_iter:\n",
    "            X=X.to(torch.int64)\n",
    "            if state is not None:\n",
    "                if isinstance (state, tuple): # LSTM, state:(h, c)  \n",
    "                    state = (state[0].detach(), state[1].detach())\n",
    "                else:   \n",
    "                    state = state.detach()\n",
    "            # output:(batch_size*num_steps,vocab_size)\n",
    "            output,state=model(X,state)\n",
    "            \n",
    "            # Y的形状是(batch_size, num_steps)，转置后再变成长度为batch * num_steps 的向量\n",
    "            y=torch.transpose(y,0,1).contiguous().view(-1)\n",
    "            loss = criterion(output, y.long())\n",
    "            # 梯度清零\n",
    "            optimizer.zero_grad()\n",
    "            #  反向传播\n",
    "            loss.backward()\n",
    "            #grad_clipping(model.parameters(), clipping_theta, device)\n",
    "            optimizer.step()\n",
    "            l_sum += loss.item() * y.shape[0]\n",
    "            n += y.shape[0]\n",
    "        # 困惑度计算\n",
    "        try:\n",
    "            perplexity = math.exp(l_sum / n)\n",
    "        except OverflowError:\n",
    "            perplexity = float('inf')\n",
    "        if (epoch + 1) % pred_period == 0:\n",
    "            print('epoch %d, perplexity %f, time %.2f sec' % (\n",
    "                epoch + 1, perplexity, time.time() - start))\n",
    "            for prefix in prefixes:\n",
    "                print(' -', predict_rnn(\n",
    "                    prefix, pred_len, model, device, idx_to_char,\n",
    "                    char_to_idx))"
   ]
  },
  {
   "cell_type": "code",
   "execution_count": 207,
   "metadata": {},
   "outputs": [
    {
     "name": "stdout",
     "output_type": "stream",
     "text": [
      "epoch 50, perplexity 3.124914, time 5.12 sec\n",
      " - 分开    不过小在多外在你 不 向 的看在我 不   安了 忘不小把的 在决  的小太 的 很 不着本\n",
      " - 不分开    让少地在用 笑分你 不  的 洒国美远我的无 我 带 回 飞是有舍不我 到 听的 转的 我 \n",
      "epoch 100, perplexity 1.448145, time 5.10 sec\n",
      " - 分开   下的 的 别 相 一松你惯象我上的  你在对有忘笑让 让不狠所在 青我 如 不声是千离  沼 \n",
      " - 不分开    让过这颗想感专和麻打蜜 不听 们回小 停大是旁感风 我 说 不欣 之我看 你是 史 的堡 情\n",
      "epoch 150, perplexity 1.442334, time 5.09 sec\n",
      " - 分开 就  不调你了不是忆我靠他的是面那 烟去 有有身我看  就你儿这 心 听爷夜不缘 说绿能空是的望风\n",
      " - 不分开 风  让种遇直面所当 节找地在说的你  色圈 过一因我 因的 　a的在  的面 为来气 山预悲后们\n",
      "epoch 200, perplexity 3.957064, time 5.11 sec\n",
      " - 分开 不  界 戏 多脑下远杂那我了样 是　声 名英力扑情  多单输的我下子  些 谁黄了呼  子在 铃\n",
      " - 不分开 这 中不都你抬许在我些 的黄下的 忆碎难是的  上我不傲芽将笑不 　的家把都让故那的明我起你不  \n",
      "epoch 250, perplexity 1.043246, time 5.09 sec\n",
      " - 分开 放 着不 你在的了我孤想在这上你我受一 事落满一 那待代 只因啦她 面的忆 泪 你 微 场无音还妳\n",
      " - 不分开 化 不不是能呆才 在能  明的了你的你打 只也像  恼 成后不一 的地的终我温  过没笔了细一不一\n"
     ]
    }
   ],
   "source": [
    "pred_period, pred_len, prefixes = 50, 50, ['分开', '不分开']\n",
    "train_rnn(model,corpus_indices, index2char, char2index,vocab_size,pred_period, pred_len, prefixes,device)"
   ]
  },
  {
   "cell_type": "markdown",
   "metadata": {},
   "source": [
    "# GRU network"
   ]
  },
  {
   "cell_type": "code",
   "execution_count": 209,
   "metadata": {},
   "outputs": [],
   "source": [
    "class GRUModel(nn.Module):\n",
    "    def __init__(self,vocab_size,hidden_dim,bidirectional=False):\n",
    "        super(GRUModel,self).__init__()\n",
    "        self.gru_layer=nn.GRU(input_size=vocab_size,hidden_size=hidden_dim)\n",
    "        self.hidden_dim=hidden_dim*1 if not bidirectional else hidden_dim*2\n",
    "        self.vocab_size=vocab_size\n",
    "        self.fc=nn.Linear(self.hidden_dim,self.vocab_size)\n",
    "        # 起始状态\n",
    "        self.state=None\n",
    "    def forward(self,X,state):\n",
    "        # X:(batch,seq_len)\n",
    "        X=F.one_hot(X,self.vocab_size).float()\n",
    "        Y, self.state = self.gru_layer(X, state)\n",
    "        #(num_steps * batch_size, num_hiddens)，它的输出形状为(num_steps * batch_size, vocab_size)\n",
    "        output = self.fc(Y.view(-1, Y.shape[-1]))\n",
    "        return output, self.state"
   ]
  },
  {
   "cell_type": "markdown",
   "metadata": {},
   "source": [
    "# LSTM network"
   ]
  },
  {
   "cell_type": "code",
   "execution_count": null,
   "metadata": {},
   "outputs": [],
   "source": [
    "class GRUModel(nn.Module):\n",
    "    def __init__(self,vocab_size,hidden_dim,bidirectional=False):\n",
    "        super(GRUModel,self).__init__()\n",
    "        self.lstm_layer=nn.LSTM(input_size=vocab_size,hidden_size=hidden_dim)\n",
    "        self.hidden_dim=hidden_dim*1 if not bidirectional else hidden_dim*2\n",
    "        self.vocab_size=vocab_size\n",
    "        self.fc=nn.Linear(self.hidden_dim,self.vocab_size)\n",
    "        # 起始状态\n",
    "        self.state=None\n",
    "    def forward(self,X,state):\n",
    "        # X:(batch,seq_len)\n",
    "        X=F.one_hot(X,self.vocab_size).float()\n",
    "        Y, self.state = self.gru_layer(X, state)\n",
    "        #(num_steps * batch_size, num_hiddens)，它的输出形状为(num_steps * batch_size, vocab_size)\n",
    "        output = self.fc(Y.view(-1, Y.shape[-1]))\n",
    "        return output, self.state"
   ]
  }
 ],
 "metadata": {
  "kernelspec": {
   "display_name": "Python 3",
   "language": "python",
   "name": "python3"
  },
  "language_info": {
   "codemirror_mode": {
    "name": "ipython",
    "version": 3
   },
   "file_extension": ".py",
   "mimetype": "text/x-python",
   "name": "python",
   "nbconvert_exporter": "python",
   "pygments_lexer": "ipython3",
   "version": "3.6.10"
  }
 },
 "nbformat": 4,
 "nbformat_minor": 4
}
